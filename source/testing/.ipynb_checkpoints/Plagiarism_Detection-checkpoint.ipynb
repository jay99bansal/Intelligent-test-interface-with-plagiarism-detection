{
 "cells": [
  {
   "cell_type": "code",
   "execution_count": 64,
   "metadata": {},
   "outputs": [],
   "source": [
    "s1 = 'Plagiarism detection is the process of locating instances of plagiarism within a work or document. The widespread use of computers and the advent of the Internet have made it easier to plagiarize the work of others. Detection of plagiarism can be undertaken in a variety of ways. Human detection is the most traditional form of identifying plagiarism from written work. This can be a lengthy and time-consuming task for the reader and can also result in inconsistencies in how plagiarism is identified within an organization. Text-matching software (TMS), which is also referred to as \"plagiarism detection software\" or \"anti-plagiarism\" software, has become widely available, in the form of both commercially available products as well as open-source software. TMS does not actually detect plagiarism per se, but instead finds specific passages of text in one document that match text in another document.'\n",
    "\n",
    "s2 = 'Plagiarism detection is defined the process of locating instances of plagiarism within a document. TMS does not actually detect plagiarism exactly, but it finds specific passages of text in one document that match text in another document. Traditional form of identifying plagiarism from written work is human detection.'\n",
    "\n",
    "s3 = 'To detect plagiarism of any form, it is essential to have broad knowledge of its possible forms and classes, and existence of various tools and systems for its detection. Based on impact or severity of damages, plagiarism may occur in an article or in any production in a number of ways. This survey presents a taxonomy of various plagiarism forms and include discussion on each of these forms. Over the years, a good number tools and techniques have been introduced to detect plagiarism. This paper highlights few promising methods for plagiarism detection based on machine learning techniques. We analyse the pros and cons of these methods and finally we highlight a list of issues and research challenges related to this evolving research problem.'\n",
    "\n",
    "s4 = 'Plagiarism detection'"
   ]
  },
  {
   "cell_type": "code",
   "execution_count": 47,
   "metadata": {},
   "outputs": [
    {
     "name": "stdout",
     "output_type": "stream",
     "text": [
      "0.7284768211920529\n",
      "0.7493333333333333\n",
      "0.7141280353200883\n",
      "0.6979445933869526\n",
      "0.7899910634495085\n",
      "0.7247542448614834\n"
     ]
    }
   ],
   "source": [
    "from similarity.normalized_levenshtein import NormalizedLevenshtein\n",
    "normalized_levenshtein = NormalizedLevenshtein()\n",
    "print(normalized_levenshtein.distance(s1,s2))\n",
    "print(normalized_levenshtein.distance(s2,s3))\n",
    "print(normalized_levenshtein.distance(s3,s1))\n",
    "print(normalized_levenshtein.distance(s4,s1))\n",
    "print(normalized_levenshtein.distance(s4,s2))\n",
    "print(normalized_levenshtein.distance(s4,s3))"
   ]
  },
  {
   "cell_type": "code",
   "execution_count": 229,
   "metadata": {},
   "outputs": [
    {
     "name": "stdout",
     "output_type": "stream",
     "text": [
      "0.9090909090909091\n",
      "0.16000000000000003\n",
      "0.16000000000000003\n",
      "0.17391304347826086\n",
      "0.17391304347826086\n",
      "0.72\n"
     ]
    }
   ],
   "source": [
    "from similarity.longest_common_subsequence import LongestCommonSubsequence\n",
    "from similarity.metric_lcs import MetricLCS\n",
    "\n",
    "def met_lcs(s1,s2):\n",
    "    lcs = LongestCommonSubsequence()\n",
    "    metric_lcs = MetricLCS()\n",
    "    dist = lcs.distance(s1,s2)\n",
    "    # our metric\n",
    "    #print((len(s1)+len(s2)-dist)/(2*len(s1)))\n",
    "    return 1-metric_lcs.distance(s1, s2)\n",
    "print(met_lcs(s1,s2))\n",
    "print(met_lcs(s2,s3))\n",
    "print(met_lcs(s3,s1))\n",
    "print(met_lcs(s1,s4))\n",
    "print(met_lcs(s2,s4))\n",
    "print(met_lcs(s3,s4))"
   ]
  },
  {
   "cell_type": "code",
   "execution_count": 106,
   "metadata": {},
   "outputs": [
    {
     "name": "stdout",
     "output_type": "stream",
     "text": [
      "0.46107916692553547\n",
      "0.09002818497951064\n",
      "0.08913752198057723\n",
      "0.9892351574737237\n",
      "0.4553360587330297\n",
      "0.08924420965727957\n"
     ]
    }
   ],
   "source": [
    "from similarity.jaccard import Jaccard\n",
    "\n",
    "def met_cosine(s1,s2,n):\n",
    "    p1 = cosine.get_profile(s1)\n",
    "    p2 = cosine.get_profile(s2)\n",
    "    return cosine.similarity_profiles(p1, p2)\n",
    "    \n",
    "n = 10\n",
    "print(met_cosine(s1,s2,n))\n",
    "print(met_cosine(s2,s3,n))\n",
    "print(met_cosine(s3,s1,n))\n",
    "print(met_cosine(s1,s4,n))\n",
    "print(met_cosine(s2,s4,n))\n",
    "print(met_cosine(s3,s4,n))"
   ]
  },
  {
   "cell_type": "code",
   "execution_count": 105,
   "metadata": {},
   "outputs": [
    {
     "name": "stdout",
     "output_type": "stream",
     "text": [
      "0.22896039603960397\n",
      "0.021176470588235293\n",
      "0.012859304084720122\n",
      "0.9770580296896086\n",
      "0.2271604938271605\n",
      "0.012849584278155708\n"
     ]
    }
   ],
   "source": [
    "from similarity.jaccard import Jaccard\n",
    "\n",
    "def met_jaccard(s1,s2,n):\n",
    "    jac = Jaccard(n)\n",
    "    return jac.similarity(s1, s2)\n",
    "    \n",
    "n = 10\n",
    "print(met_jaccard(s1,s2,n))\n",
    "print(met_jaccard(s2,s3,n))\n",
    "print(met_jaccard(s3,s1,n))\n",
    "print(met_jaccard(s1,s4,n))\n",
    "print(met_jaccard(s2,s4,n))\n",
    "print(met_jaccard(s3,s4,n))"
   ]
  },
  {
   "cell_type": "code",
   "execution_count": 281,
   "metadata": {},
   "outputs": [
    {
     "name": "stdout",
     "output_type": "stream",
     "text": [
      "0.5776752362582346\n",
      "0.06798201951710724\n",
      "0.06905046355510752\n",
      "0.07320279679348306\n",
      "0.07195544692964713\n",
      "0.14624183006535948\n"
     ]
    }
   ],
   "source": [
    "def met_weighted(str1, str2):\n",
    "    ind = []\n",
    "    #ind.append(met_lcs(str1, str2))\n",
    "    val1 = 0\n",
    "    val2 = 0\n",
    "    val3 = 0\n",
    "    p = 0\n",
    "    for i in range(1,10):\n",
    "        k = i**p\n",
    "        val3 += k\n",
    "        val1 += met_cosine(str1, str2,i)*k\n",
    "        val2 += met_jaccard(str1, str2,i)*k\n",
    "    val1 = val1/val3\n",
    "    val2 = val2/val3\n",
    "    ind.append(met_lcs(str1, str2))\n",
    "    ind.append(val1)\n",
    "    ind.append(val2)\n",
    "    met_weights = [0.0, 0.5, 0.5]\n",
    "    ans = 0\n",
    "    for i in range(0,len(ind)):\n",
    "        ans+=ind[i]*met_weights[i]\n",
    "    return ans\n",
    "\n",
    "\n",
    "s1 = pre_process(s1)\n",
    "s2 = pre_process(s2)\n",
    "s3 = pre_process(s3)\n",
    "s4 = pre_process(s4)\n",
    "print(met_weighted(s1,s2))\n",
    "print(met_weighted(s2,s3))\n",
    "print(met_weighted(s3,s1))\n",
    "print(met_weighted(s1,s4))\n",
    "print(met_weighted(s2,s4))\n",
    "print(met_weighted(s3,s4))"
   ]
  },
  {
   "cell_type": "code",
   "execution_count": null,
   "metadata": {},
   "outputs": [],
   "source": []
  },
  {
   "cell_type": "code",
   "execution_count": null,
   "metadata": {},
   "outputs": [],
   "source": []
  },
  {
   "cell_type": "code",
   "execution_count": 251,
   "metadata": {},
   "outputs": [],
   "source": [
    "import string\n",
    "def pre_process(s):\n",
    "    s = s.translate(str.maketrans('', '', string.punctuation))\n",
    "    s = s.replace(\" \", \"\")\n",
    "    return s.lower()"
   ]
  },
  {
   "cell_type": "code",
   "execution_count": 270,
   "metadata": {},
   "outputs": [],
   "source": [
    "s1 = 'hey there, I am using whatsapp!'\n",
    "s2 = 'hey there; i aam using whatsapp'\n",
    "s3 = 'whatsapp is owned by facebook...'\n",
    "s4 = 'I use whatsapp and facebook...'"
   ]
  }
 ],
 "metadata": {
  "kernelspec": {
   "display_name": "Python 3",
   "language": "python",
   "name": "python3"
  },
  "language_info": {
   "codemirror_mode": {
    "name": "ipython",
    "version": 3
   },
   "file_extension": ".py",
   "mimetype": "text/x-python",
   "name": "python",
   "nbconvert_exporter": "python",
   "pygments_lexer": "ipython3",
   "version": "3.6.8"
  }
 },
 "nbformat": 4,
 "nbformat_minor": 2
}
